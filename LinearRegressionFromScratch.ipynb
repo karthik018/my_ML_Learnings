{
 "cells": [
  {
   "cell_type": "code",
   "execution_count": 3,
   "id": "3f27aa98",
   "metadata": {},
   "outputs": [],
   "source": [
    "import numpy as np\n",
    "import matplotlib.pyplot as plt\n",
    "from sklearn.datasets import make_regression\n",
    "from sklearn.linear_model import LinearRegression\n",
    "from sklearn.model_selection import train_test_split\n",
    "from sklearn.metrics import mean_squared_error"
   ]
  },
  {
   "cell_type": "code",
   "execution_count": 9,
   "id": "09669777",
   "metadata": {},
   "outputs": [
    {
     "data": {
      "image/png": "[encoded data removed]",
      "text/plain": [
       "<Figure size 432x288 with 1 Axes>"
      ]
     },
     "metadata": {
      "needs_background": "light"
     },
     "output_type": "display_data"
    }
   ],
   "source": [
    "X, y = make_regression(n_samples=100, n_features=1, n_targets=1, noise=20, random_state=24)\n",
    "X_train, X_test, y_train, y_test = train_test_split(X, y, train_size=0.75, random_state=24)\n",
    "plt.scatter(X, y)\n",
    "plt.show()"
   ]
  },
  {
   "cell_type": "code",
   "execution_count": 14,
   "id": "1be398b4",
   "metadata": {},
   "outputs": [],
   "source": [
    "def param_init(X):\n",
    "    params = {}\n",
    "    _, n_features = X.shape\n",
    "    params[\"W\"] = np.zeros(n_features)\n",
    "    params[\"b\"] = 0\n",
    "    return params"
   ]
  },
  {
   "cell_type": "code",
   "execution_count": 39,
   "id": "8d21a1c9",
   "metadata": {},
   "outputs": [],
   "source": [
    "def gradient_descent(X, y, params, alpha, n_iter):\n",
    "    W = params[\"W\"]\n",
    "    b = params[\"b\"]\n",
    "    m = X.shape[0]\n",
    "    for _ in range(n_iter):\n",
    "        y_pred = np.dot(X, W) + b\n",
    "        dW = (2/m) + np.dot(X.T, (y_pred - y))\n",
    "        db = (2/m) + np.sum(y_pred - y)\n",
    "        W -= alpha * dW\n",
    "        b -= alpha * db\n",
    "        \n",
    "    params[\"W\"] = W\n",
    "    params[\"b\"] = b\n",
    "    return params"
   ]
  },
  {
   "cell_type": "code",
   "execution_count": 40,
   "id": "5b21ef3e",
   "metadata": {},
   "outputs": [],
   "source": [
    "def train(X, y, alpha=0.01, n_iter=1000):\n",
    "    params = param_init(X)\n",
    "    params = gradient_descent(X, y, params, alpha, n_iter)\n",
    "    return params"
   ]
  },
  {
   "cell_type": "code",
   "execution_count": 41,
   "id": "f0e0cf64",
   "metadata": {},
   "outputs": [],
   "source": [
    "def predict(X_test, params):\n",
    "    y_pred = np.dot(X_test, params[\"W\"]) + params[\"b\"]\n",
    "    return y_pred"
   ]
  },
  {
   "cell_type": "code",
   "execution_count": 42,
   "id": "7faf19d8",
   "metadata": {},
   "outputs": [
    {
     "data": {
      "text/plain": [
       "Text(0, 0.5, 'Y axis')"
      ]
     },
     "execution_count": 42,
     "metadata": {},
     "output_type": "execute_result"
    },
    {
     "data": {
      "image/png": "[encoded data removed]",
      "text/plain": [
       "<Figure size 432x288 with 1 Axes>"
      ]
     },
     "metadata": {
      "needs_background": "light"
     },
     "output_type": "display_data"
    }
   ],
   "source": [
    "params = train(X_train, y_train)\n",
    "y_preds = predict(X_test, params)\n",
    "\n",
    "plt.scatter(X_test, y_test)\n",
    "plt.plot(X_test, y_preds, color=\"red\")\n",
    "plt.title(\"Predictions Dummy Regression Data\")\n",
    "plt.xlabel(\"X axis\")\n",
    "plt.ylabel(\"Y axis\")"
   ]
  },
  {
   "cell_type": "code",
   "execution_count": null,
   "id": "c235ddca",
   "metadata": {},
   "outputs": [],
   "source": []
  }
 ],
 "metadata": {
  "kernelspec": {
   "display_name": "Python 3",
   "language": "python",
   "name": "python3"
  },
  "language_info": {
   "codemirror_mode": {
    "name": "ipython",
    "version": 3
   },
   "file_extension": ".py",
   "mimetype": "text/x-python",
   "name": "python",
   "nbconvert_exporter": "python",
   "pygments_lexer": "ipython3",
   "version": "3.8.5"
  }
 },
 "nbformat": 4,
 "nbformat_minor": 5
}
